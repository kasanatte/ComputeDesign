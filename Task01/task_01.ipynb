{
 "cells": [
  {
   "cell_type": "code",
   "execution_count": 19,
   "metadata": {},
   "outputs": [],
   "source": [
    "%matplotlib inline\n",
    "import numpy as np\n",
    "import matplotlib.pyplot as plt\n",
    "from sklearn.datasets import load_iris #仅用于加载数据集\n"
   ]
  },
  {
   "cell_type": "code",
   "execution_count": 20,
   "metadata": {
    "pycharm": {
     "name": "#%%\n"
    }
   },
   "outputs": [],
   "source": [
    "# 画图时的中文支持\n",
    "plt.rcParams['font.sans-serif'] = ['SimHei']  # 用来正常显示中文标签\n",
    "plt.rcParams['axes.unicode_minus'] = False  # 用来正常显示负号"
   ]
  },
  {
   "cell_type": "code",
   "execution_count": 21,
   "metadata": {
    "pycharm": {
     "name": "#%%\n"
    }
   },
   "outputs": [],
   "source": [
    "# 加载数据集\n",
    "iris = load_iris()\n"
   ]
  },
  {
   "cell_type": "code",
   "execution_count": 22,
   "metadata": {},
   "outputs": [
    {
     "data": {
      "text/plain": "<Figure size 432x288 with 1 Axes>",
      "image/png": "[encoded data removed]"
     },
     "metadata": {
      "needs_background": "light"
     },
     "output_type": "display_data"
    }
   ],
   "source": []
  },
  {
   "cell_type": "code",
   "execution_count": 26,
   "outputs": [
    {
     "name": "stdout",
     "output_type": "stream",
     "text": [
      "[[1.4 0.2]\n",
      " [1.4 0.2]\n",
      " [1.3 0.2]\n",
      " [1.5 0.2]\n",
      " [1.4 0.2]\n",
      " [1.7 0.4]\n",
      " [1.4 0.3]\n",
      " [1.5 0.2]\n",
      " [1.4 0.2]\n",
      " [1.5 0.1]\n",
      " [1.5 0.2]\n",
      " [1.6 0.2]\n",
      " [1.4 0.1]\n",
      " [1.1 0.1]\n",
      " [1.2 0.2]\n",
      " [1.5 0.4]\n",
      " [1.3 0.4]\n",
      " [1.4 0.3]\n",
      " [1.7 0.3]\n",
      " [1.5 0.3]\n",
      " [1.7 0.2]\n",
      " [1.5 0.4]\n",
      " [1.  0.2]\n",
      " [1.7 0.5]\n",
      " [1.9 0.2]\n",
      " [1.6 0.2]\n",
      " [1.6 0.4]\n",
      " [1.5 0.2]\n",
      " [1.4 0.2]\n",
      " [1.6 0.2]\n",
      " [1.6 0.2]\n",
      " [1.5 0.4]\n",
      " [1.5 0.1]\n",
      " [1.4 0.2]\n",
      " [1.5 0.2]\n",
      " [1.2 0.2]\n",
      " [1.3 0.2]\n",
      " [1.4 0.1]\n",
      " [1.3 0.2]\n",
      " [1.5 0.2]\n",
      " [1.3 0.3]\n",
      " [1.3 0.3]\n",
      " [1.3 0.2]\n",
      " [1.6 0.6]\n",
      " [1.9 0.4]\n",
      " [1.4 0.3]\n",
      " [1.6 0.2]\n",
      " [1.4 0.2]\n",
      " [1.5 0.2]\n",
      " [1.4 0.2]\n",
      " [6.  2.5]\n",
      " [5.1 1.9]\n",
      " [5.9 2.1]\n",
      " [5.6 1.8]\n",
      " [5.8 2.2]\n",
      " [6.6 2.1]\n",
      " [4.5 1.7]\n",
      " [6.3 1.8]\n",
      " [5.8 1.8]\n",
      " [6.1 2.5]\n",
      " [5.1 2. ]\n",
      " [5.3 1.9]\n",
      " [5.5 2.1]\n",
      " [5.  2. ]\n",
      " [5.1 2.4]\n",
      " [5.3 2.3]\n",
      " [5.5 1.8]\n",
      " [6.7 2.2]\n",
      " [6.9 2.3]\n",
      " [5.  1.5]\n",
      " [5.7 2.3]\n",
      " [4.9 2. ]\n",
      " [6.7 2. ]\n",
      " [4.9 1.8]\n",
      " [5.7 2.1]\n",
      " [6.  1.8]\n",
      " [4.8 1.8]\n",
      " [4.9 1.8]\n",
      " [5.6 2.1]\n",
      " [5.8 1.6]\n",
      " [6.1 1.9]\n",
      " [6.4 2. ]\n",
      " [5.6 2.2]\n",
      " [5.1 1.5]\n",
      " [5.6 1.4]\n",
      " [6.1 2.3]\n",
      " [5.6 2.4]\n",
      " [5.5 1.8]\n",
      " [4.8 1.8]\n",
      " [5.4 2.1]\n",
      " [5.6 2.4]\n",
      " [5.1 2.3]\n",
      " [5.1 1.9]\n",
      " [5.9 2.3]\n",
      " [5.7 2.5]\n",
      " [5.2 2.3]\n",
      " [5.  1.9]\n",
      " [5.2 2. ]\n",
      " [5.4 2.3]\n",
      " [5.1 1.8]]\n",
      "-----------\n",
      "[[6.  2.5]\n",
      " [5.1 1.9]\n",
      " [5.9 2.1]\n",
      " [5.6 1.8]\n",
      " [5.8 2.2]\n",
      " [6.6 2.1]\n",
      " [4.5 1.7]\n",
      " [6.3 1.8]\n",
      " [5.8 1.8]\n",
      " [6.1 2.5]\n",
      " [5.1 2. ]\n",
      " [5.3 1.9]\n",
      " [5.5 2.1]\n",
      " [5.  2. ]\n",
      " [5.1 2.4]\n",
      " [5.3 2.3]\n",
      " [5.5 1.8]\n",
      " [6.7 2.2]\n",
      " [6.9 2.3]\n",
      " [5.  1.5]\n",
      " [5.7 2.3]\n",
      " [4.9 2. ]\n",
      " [6.7 2. ]\n",
      " [4.9 1.8]\n",
      " [5.7 2.1]\n",
      " [6.  1.8]\n",
      " [4.8 1.8]\n",
      " [4.9 1.8]\n",
      " [5.6 2.1]\n",
      " [5.8 1.6]\n",
      " [6.1 1.9]\n",
      " [6.4 2. ]\n",
      " [5.6 2.2]\n",
      " [5.1 1.5]\n",
      " [5.6 1.4]\n",
      " [6.1 2.3]\n",
      " [5.6 2.4]\n",
      " [5.5 1.8]\n",
      " [4.8 1.8]\n",
      " [5.4 2.1]\n",
      " [5.6 2.4]\n",
      " [5.1 2.3]\n",
      " [5.1 1.9]\n",
      " [5.9 2.3]\n",
      " [5.7 2.5]\n",
      " [5.2 2.3]\n",
      " [5.  1.9]\n",
      " [5.2 2. ]\n",
      " [5.4 2.3]\n",
      " [5.1 1.8]]\n"
     ]
    }
   ],
   "source": [
    "# 从图中大致可以看出，花瓣长度和花瓣宽度与鸢尾花类型间有较好的线性关系，使用花瓣数据来划分鸢尾花类型效果更好。\n",
    "X=np.c_[np.ones(100),iris.data[:100,2:4]]\n",
    "data = np.vstack((iris.data[:50, 2:4],iris.data[100:150, 2:4]))\n",
    "print(data)\n",
    "print(\"-----------\")\n",
    "print(iris.data[100:150, 2:4])\n",
    "# 得到真值T，从数据集中得到真值\n",
    "T=iris.target[:100].reshape(100,1)\n",
    "\n",
    "# 将T中所有不等于1的元素赋值为-1，以契合sign函数\n",
    "T[T!=1] = -1\n",
    "\n",
    "\n",
    "# 权值初始化，3行1列，即w0 w1 w2\n",
    "# 直接赋初值，不使用随机数\n",
    "W = np.array([[1],\n",
    "              [1],\n",
    "              [1]])\n",
    "\n",
    "# 学习率设置\n",
    "lr = 1\n",
    "# 神经网络输出\n",
    "Y = 0"
   ],
   "metadata": {
    "collapsed": false,
    "pycharm": {
     "name": "#%%\n"
    }
   }
  },
  {
   "cell_type": "code",
   "execution_count": 34,
   "outputs": [
    {
     "name": "stdout",
     "output_type": "stream",
     "text": [
      "[-1 -1 -1 -1 -1 -1 -1 -1 -1 -1 -1 -1 -1 -1 -1 -1 -1 -1 -1 -1 -1 -1 -1 -1\n",
      " -1 -1 -1 -1 -1 -1 -1 -1 -1 -1 -1 -1 -1 -1 -1 -1 -1 -1 -1 -1 -1 -1 -1 -1\n",
      " -1 -1  1  1  1  1  1  1  1  1  1  1  1  1  1  1  1  1  1  1  1  1  1  1\n",
      "  1  1  1  1  1  1  1  1  1  1  1  1  1  1  1  1  1  1  1  1  1  1  1  1\n",
      "  1  1  1  1]\n",
      "----------\n",
      "[-1 -1 -1 -1 -1 -1 -1 -1 -1 -1 -1 -1 -1 -1 -1 -1 -1 -1 -1 -1 -1 -1 -1 -1\n",
      " -1 -1 -1 -1 -1 -1 -1 -1 -1 -1 -1 -1 -1 -1 -1 -1 -1 -1 -1 -1 -1 -1 -1 -1\n",
      " -1 -1  2  2  2  2  2  2  2  2  2  2  2  2  2  2  2  2  2  2  2  2  2  2\n",
      "  2  2  2  2  2  2  2  2  2  2  2  2  2  2  2  2  2  2  2  2  2  2  2  2\n",
      "  2  2  2  2]\n"
     ]
    }
   ],
   "source": [
    "print(iris.target[:100])\n",
    "print(\"----------\")\n",
    "print(np.hstack((iris.target[:50],iris.target[100:150])))"
   ],
   "metadata": {
    "collapsed": false,
    "pycharm": {
     "name": "#%%\n"
    }
   }
  },
  {
   "cell_type": "code",
   "execution_count": 25,
   "outputs": [
    {
     "name": "stderr",
     "output_type": "stream",
     "text": [
      "C:\\Users\\12591\\AppData\\Local\\Temp/ipykernel_15932/2423548786.py:37: UserWarning: color is redundantly defined by the 'color' keyword argument and the fmt string \"bo\" (-> color='b'). The keyword argument will take precedence.\n",
      "  plt.plot(X[:50, 1], X[:50, 2], 'bo', color='red', label='Setosa山鸢尾')\n",
      "C:\\Users\\12591\\AppData\\Local\\Temp/ipykernel_15932/2423548786.py:39: UserWarning: color is redundantly defined by the 'color' keyword argument and the fmt string \"bo\" (-> color='b'). The keyword argument will take precedence.\n",
      "  plt.plot(X[50:100, 1], X[50:100, 2], 'bo', color='blue', label='Versicolour变色鸢尾')\n",
      "C:\\Users\\12591\\AppData\\Local\\Temp/ipykernel_15932/2423548786.py:40: UserWarning: color is redundantly defined by the 'color' keyword argument and the fmt string \"b+\" (-> color='b'). The keyword argument will take precedence.\n",
      "  plt.plot(2.5, 1, 'b+', color='black', label='待预测点')\n"
     ]
    },
    {
     "data": {
      "text/plain": "<Figure size 432x288 with 1 Axes>",
      "image/png": "[encoded data removed]"
     },
     "metadata": {
      "needs_background": "light"
     },
     "output_type": "display_data"
    },
    {
     "ename": "KeyboardInterrupt",
     "evalue": "",
     "output_type": "error",
     "traceback": [
      "\u001B[1;31m---------------------------------------------------------------------------\u001B[0m",
      "\u001B[1;31mKeyboardInterrupt\u001B[0m                         Traceback (most recent call last)",
      "\u001B[1;32m~\\AppData\\Local\\Temp/ipykernel_15932/2423548786.py\u001B[0m in \u001B[0;36m<module>\u001B[1;34m\u001B[0m\n\u001B[0;32m     69\u001B[0m     \u001B[1;32mif\u001B[0m\u001B[1;33m(\u001B[0m\u001B[0mi\u001B[0m\u001B[1;33m==\u001B[0m\u001B[1;36m0\u001B[0m\u001B[1;33m)\u001B[0m\u001B[1;33m:\u001B[0m    \u001B[1;31m#特地画出未经训练的初始图像，以方便理解\u001B[0m\u001B[1;33m\u001B[0m\u001B[1;33m\u001B[0m\u001B[0m\n\u001B[0;32m     70\u001B[0m         \u001B[0mdraw\u001B[0m\u001B[1;33m(\u001B[0m\u001B[1;33m)\u001B[0m\u001B[1;33m\u001B[0m\u001B[1;33m\u001B[0m\u001B[0m\n\u001B[1;32m---> 71\u001B[1;33m         \u001B[0mplt\u001B[0m\u001B[1;33m.\u001B[0m\u001B[0mpause\u001B[0m\u001B[1;33m(\u001B[0m\u001B[1;36m5\u001B[0m\u001B[1;33m)\u001B[0m  \u001B[1;31m#停留两秒，这是分类直线最初的位置，取决于W的初始值，是人为决定的超参数\u001B[0m\u001B[1;33m\u001B[0m\u001B[1;33m\u001B[0m\u001B[0m\n\u001B[0m\u001B[0;32m     72\u001B[0m     \u001B[0mtrain\u001B[0m\u001B[1;33m(\u001B[0m\u001B[1;33m)\u001B[0m      \u001B[1;31m#更新一次权值\u001B[0m\u001B[1;33m\u001B[0m\u001B[1;33m\u001B[0m\u001B[0m\n\u001B[0;32m     73\u001B[0m     \u001B[0mdraw\u001B[0m\u001B[1;33m(\u001B[0m\u001B[1;33m)\u001B[0m       \u001B[1;31m#画出更新一次权值后的图像\u001B[0m\u001B[1;33m\u001B[0m\u001B[1;33m\u001B[0m\u001B[0m\n",
      "\u001B[1;32mD:\\soft\\miniconda3\\envs\\ComputeDesign\\lib\\site-packages\\matplotlib\\pyplot.py\u001B[0m in \u001B[0;36mpause\u001B[1;34m(interval)\u001B[0m\n\u001B[0;32m    558\u001B[0m         \u001B[0mcanvas\u001B[0m\u001B[1;33m.\u001B[0m\u001B[0mstart_event_loop\u001B[0m\u001B[1;33m(\u001B[0m\u001B[0minterval\u001B[0m\u001B[1;33m)\u001B[0m\u001B[1;33m\u001B[0m\u001B[1;33m\u001B[0m\u001B[0m\n\u001B[0;32m    559\u001B[0m     \u001B[1;32melse\u001B[0m\u001B[1;33m:\u001B[0m\u001B[1;33m\u001B[0m\u001B[1;33m\u001B[0m\u001B[0m\n\u001B[1;32m--> 560\u001B[1;33m         \u001B[0mtime\u001B[0m\u001B[1;33m.\u001B[0m\u001B[0msleep\u001B[0m\u001B[1;33m(\u001B[0m\u001B[0minterval\u001B[0m\u001B[1;33m)\u001B[0m\u001B[1;33m\u001B[0m\u001B[1;33m\u001B[0m\u001B[0m\n\u001B[0m\u001B[0;32m    561\u001B[0m \u001B[1;33m\u001B[0m\u001B[0m\n\u001B[0;32m    562\u001B[0m \u001B[1;33m\u001B[0m\u001B[0m\n",
      "\u001B[1;31mKeyboardInterrupt\u001B[0m: "
     ]
    }
   ],
   "source": [
    "# # 学习算法\n",
    "\n",
    "\n",
    "#训练感知机模型\n",
    "# 更新一次权值\n",
    "def train():\n",
    "    # 使用全局变量W\n",
    "    global W\n",
    "    # 同时计算100个数据的预测值\n",
    "    # Y的形状为(100,1)-100行1列\n",
    "    Y = np.sign(np.dot(X,W))\n",
    "    # T - Y得到100个的标签值与预测值的误差E。形状为(100,1)\n",
    "    E = T - Y\n",
    "    # X的形状为(100,3)\n",
    "    # X.T表示X的转置矩阵，形状为(3,100)\n",
    "    # 我们一共有100个数据，每个数据3个特征的值。定义第i个数据的第j个特征值为xij\n",
    "    # 如第1个数据，第2个值为x12\n",
    "    # X.T.dot(E)为一个3行1列的数据：\n",
    "    # 第1行等于：x0_0×e0+x1_0×e1+x2_0×e2+x3_0×e3+...+x99_0×e99，它会调整权值W0\n",
    "    # 第2行等于：x0_1×e0+x1_1×e1+x2_1×e2+x3_1×e3+...+x99_1×e99，它会调整权值W1\n",
    "    # 第3行等于：x0_2×e0+x1_2×e1+x2_2×e2+x3_2×e3+...+x99_2×e99，它会调整权值W2\n",
    "    # X.shape表示X的形状X.shape[0]得到X的行数，表示有多少个数据\n",
    "    # X.shape[1]得到列数，表示每个数据有多少个特征值。\n",
    "    delta_W = lr * (X.T.dot(E)) / X.shape[0]\n",
    "    W = W + delta_W\n",
    "\n",
    "\n",
    "# # 画图函数\n",
    "def draw():\n",
    "    plt.clf()\n",
    "    plt.xlim(0, 6)#x轴上的最小值和最大值\n",
    "    plt.ylim(0, 2)#y轴上的最小值和最大值\n",
    "    plt.title(u'Perceptron感知器 epoch:%d\\n W0:%f W1:%f W2:%f' %(i+1,W[0],W[1],W[2]), fontsize=15)\n",
    "\n",
    "    plt.xlabel('petal length 花瓣长度', fontsize=13)\n",
    "    plt.ylabel('petal width 花瓣宽度', fontsize=13)\n",
    "    plt.plot(X[:50, 1], X[:50, 2], 'bo', color='red', label='Setosa山鸢尾')\n",
    "    # 用黄色的点来画出负样本\n",
    "    plt.plot(X[50:100, 1], X[50:100, 2], 'bo', color='blue', label='Versicolour变色鸢尾')\n",
    "    plt.plot(2.5, 1, 'b+', color='black', label='待预测点')\n",
    "\n",
    "    k = - W[1] / W[2]\n",
    "    d =  -W[0] / W[2]\n",
    "    # 设定两个点\n",
    "    xdata = (0,6)\n",
    "    # 通过两个点来确定一条直线，用红色的线来画出分界线\n",
    "    plt.plot(xdata,xdata * k + d,'black', linewidth=3)\n",
    "    plt.legend()\n",
    "    ######################################################以下绘制决策面两边的颜色，不要求掌握\n",
    "    # 生成决策面\n",
    "    from matplotlib.colors import ListedColormap #绘制决策面两边的颜色，不要求掌握\n",
    "    # 生成x,y的数据\n",
    "    n = 256\n",
    "    xx = np.linspace(0, 6, n)\n",
    "    yy = np.linspace(0, 2, n)\n",
    "    # 把x,y数据生成mesh网格状的数据，因为等高线的显示是在网格的基础上添加上高度值\n",
    "    XX, YY = np.meshgrid(xx, yy)\n",
    "    # 填充等高线\n",
    "    colors = ('red', 'blue', 'lightgreen', 'gray', 'cyan')\n",
    "    cmap = ListedColormap(colors[:len(np.unique(np.sign(W[0]+W[1]*XX+W[2]*YY)))])\n",
    "    plt.contourf(XX, YY, np.sign(W[0]+W[1]*XX+W[2]*YY),8, alpha = 0.5, cmap=cmap)\n",
    "    #######################################################以上绘制决策面两边的颜色，不要求掌握\n",
    "    plt.pause(0.1)\n",
    "    plt.show()\n",
    "\n",
    "\n",
    "# # 训练100次\n",
    "for i in range(1000):\n",
    "    if(i==0):    #特地画出未经训练的初始图像，以方便理解\n",
    "        draw()\n",
    "        plt.pause(5)  #停留两秒，这是分类直线最初的位置，取决于W的初始值，是人为决定的超参数\n",
    "    train()      #更新一次权值\n",
    "    draw()       #画出更新一次权值后的图像\n",
    "    Y = np.sign(np.dot(X,W))\n",
    "    # .all()表示Y中的所有值跟T中所有值都对应相等，结果才为真\n",
    "    if(Y == T).all():\n",
    "        print('Finished')\n",
    "        # 跳出循环\n",
    "        break"
   ],
   "metadata": {
    "collapsed": false,
    "pycharm": {
     "name": "#%%\n"
    }
   }
  },
  {
   "cell_type": "code",
   "execution_count": null,
   "metadata": {},
   "outputs": [],
   "source": []
  }
 ],
 "metadata": {
  "kernelspec": {
   "display_name": "PyCharm (ComputeDesign)",
   "language": "python",
   "name": "pycharm-2e1e0dd1"
  },
  "language_info": {
   "codemirror_mode": {
    "name": "ipython",
    "version": 3
   },
   "file_extension": ".py",
   "mimetype": "text/x-python",
   "name": "python",
   "nbconvert_exporter": "python",
   "pygments_lexer": "ipython3",
   "version": "3.8.12"
  }
 },
 "nbformat": 4,
 "nbformat_minor": 1
}